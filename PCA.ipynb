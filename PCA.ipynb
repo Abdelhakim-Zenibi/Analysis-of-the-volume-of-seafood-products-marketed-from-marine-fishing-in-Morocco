{
 "cells": [
  {
   "cell_type": "code",
   "execution_count": 50,
   "id": "189d1363",
   "metadata": {},
   "outputs": [
    {
     "data": {
      "text/html": [
       "<div>\n",
       "<style scoped>\n",
       "    .dataframe tbody tr th:only-of-type {\n",
       "        vertical-align: middle;\n",
       "    }\n",
       "\n",
       "    .dataframe tbody tr th {\n",
       "        vertical-align: top;\n",
       "    }\n",
       "\n",
       "    .dataframe thead th {\n",
       "        text-align: right;\n",
       "    }\n",
       "</style>\n",
       "<table border=\"1\" class=\"dataframe\">\n",
       "  <thead>\n",
       "    <tr style=\"text-align: right;\">\n",
       "      <th>Délégation</th>\n",
       "      <th>Janv</th>\n",
       "      <th>Fév</th>\n",
       "      <th>Mars</th>\n",
       "      <th>Avril</th>\n",
       "      <th>Mai</th>\n",
       "      <th>Juin</th>\n",
       "      <th>Juillet</th>\n",
       "      <th>Août</th>\n",
       "      <th>Sept</th>\n",
       "      <th>Oct</th>\n",
       "      <th>Nov</th>\n",
       "      <th>Dec</th>\n",
       "    </tr>\n",
       "    <tr>\n",
       "      <th></th>\n",
       "      <th></th>\n",
       "      <th></th>\n",
       "      <th></th>\n",
       "      <th></th>\n",
       "      <th></th>\n",
       "      <th></th>\n",
       "      <th></th>\n",
       "      <th></th>\n",
       "      <th></th>\n",
       "      <th></th>\n",
       "      <th></th>\n",
       "      <th></th>\n",
       "    </tr>\n",
       "  </thead>\n",
       "  <tbody>\n",
       "    <tr>\n",
       "      <th>(Délégation Agadir, مندوبية اكادير)</th>\n",
       "      <td>2063.23180</td>\n",
       "      <td>2049.17110</td>\n",
       "      <td>3748.46830</td>\n",
       "      <td>3476.52310</td>\n",
       "      <td>2967.0594</td>\n",
       "      <td>3580.23800</td>\n",
       "      <td>1829.4766</td>\n",
       "      <td>5543.47010</td>\n",
       "      <td>3145.75190</td>\n",
       "      <td>2331.20410</td>\n",
       "      <td>2572.97920</td>\n",
       "      <td>2793.83600</td>\n",
       "    </tr>\n",
       "    <tr>\n",
       "      <th>(Délégation Sidi ifni, مندوبية سيدي إفني )</th>\n",
       "      <td>4567.38750</td>\n",
       "      <td>4498.64550</td>\n",
       "      <td>10998.90950</td>\n",
       "      <td>8573.68350</td>\n",
       "      <td>5961.0586</td>\n",
       "      <td>7408.44460</td>\n",
       "      <td>945.7732</td>\n",
       "      <td>990.00750</td>\n",
       "      <td>1526.60240</td>\n",
       "      <td>1790.70850</td>\n",
       "      <td>889.30000</td>\n",
       "      <td>399.45900</td>\n",
       "    </tr>\n",
       "    <tr>\n",
       "      <th>(Délégation Tantan, مندوبية طان طان)</th>\n",
       "      <td>2419.46750</td>\n",
       "      <td>2399.88700</td>\n",
       "      <td>19316.37200</td>\n",
       "      <td>5850.18350</td>\n",
       "      <td>1756.7060</td>\n",
       "      <td>16436.37400</td>\n",
       "      <td>5819.4285</td>\n",
       "      <td>7779.71700</td>\n",
       "      <td>14135.71150</td>\n",
       "      <td>9484.18518</td>\n",
       "      <td>19384.45350</td>\n",
       "      <td>18355.65900</td>\n",
       "    </tr>\n",
       "    <tr>\n",
       "      <th>(Délégation Casa, مندوبية الدار البيضاء)</th>\n",
       "      <td>1739.67488</td>\n",
       "      <td>1119.56725</td>\n",
       "      <td>1746.97104</td>\n",
       "      <td>1119.32676</td>\n",
       "      <td>1189.0874</td>\n",
       "      <td>3573.79968</td>\n",
       "      <td>2488.2361</td>\n",
       "      <td>3073.93890</td>\n",
       "      <td>2113.05588</td>\n",
       "      <td>607.42830</td>\n",
       "      <td>1545.74754</td>\n",
       "      <td>1631.22228</td>\n",
       "    </tr>\n",
       "    <tr>\n",
       "      <th>(Délégation El Jadida, مندوبية الجديدة)</th>\n",
       "      <td>4099.44250</td>\n",
       "      <td>3232.06100</td>\n",
       "      <td>1194.17850</td>\n",
       "      <td>942.85900</td>\n",
       "      <td>2347.4795</td>\n",
       "      <td>1818.53100</td>\n",
       "      <td>1589.7595</td>\n",
       "      <td>2993.29150</td>\n",
       "      <td>4984.24000</td>\n",
       "      <td>3938.52250</td>\n",
       "      <td>2787.40300</td>\n",
       "      <td>2324.27950</td>\n",
       "    </tr>\n",
       "    <tr>\n",
       "      <th>(Délégation Essaouira, مندوبية الصويرة)</th>\n",
       "      <td>408.09606</td>\n",
       "      <td>325.23267</td>\n",
       "      <td>1200.24037</td>\n",
       "      <td>515.19456</td>\n",
       "      <td>793.1990</td>\n",
       "      <td>1441.77476</td>\n",
       "      <td>511.5761</td>\n",
       "      <td>905.21848</td>\n",
       "      <td>1148.08638</td>\n",
       "      <td>1949.30210</td>\n",
       "      <td>2647.13757</td>\n",
       "      <td>2478.22731</td>\n",
       "    </tr>\n",
       "    <tr>\n",
       "      <th>(Délégation Mehdia, مندوبية مهدية)</th>\n",
       "      <td>1251.95000</td>\n",
       "      <td>395.09800</td>\n",
       "      <td>721.79000</td>\n",
       "      <td>573.41900</td>\n",
       "      <td>1645.3410</td>\n",
       "      <td>1242.58500</td>\n",
       "      <td>1157.8040</td>\n",
       "      <td>1977.09100</td>\n",
       "      <td>1074.23900</td>\n",
       "      <td>440.05900</td>\n",
       "      <td>681.20500</td>\n",
       "      <td>986.16200</td>\n",
       "    </tr>\n",
       "    <tr>\n",
       "      <th>(Délégation Mohamedia, مندوبية المحمدية)</th>\n",
       "      <td>353.13150</td>\n",
       "      <td>141.16250</td>\n",
       "      <td>132.35800</td>\n",
       "      <td>60.00350</td>\n",
       "      <td>23.7425</td>\n",
       "      <td>470.62250</td>\n",
       "      <td>264.0655</td>\n",
       "      <td>100.99750</td>\n",
       "      <td>169.21050</td>\n",
       "      <td>384.33500</td>\n",
       "      <td>483.67750</td>\n",
       "      <td>396.89950</td>\n",
       "    </tr>\n",
       "    <tr>\n",
       "      <th>(Délégation Rabat, مندوبية الرباط)</th>\n",
       "      <td>39.34750</td>\n",
       "      <td>17.35850</td>\n",
       "      <td>20.24200</td>\n",
       "      <td>21.41310</td>\n",
       "      <td>58.7580</td>\n",
       "      <td>404.99500</td>\n",
       "      <td>48.4365</td>\n",
       "      <td>43.56350</td>\n",
       "      <td>0.77600</td>\n",
       "      <td>0.73300</td>\n",
       "      <td>0.75000</td>\n",
       "      <td>59.20950</td>\n",
       "    </tr>\n",
       "    <tr>\n",
       "      <th>(Délégation Safi, مندوبية اسفي)</th>\n",
       "      <td>4913.41200</td>\n",
       "      <td>4383.06946</td>\n",
       "      <td>4169.58670</td>\n",
       "      <td>4597.91340</td>\n",
       "      <td>2357.5979</td>\n",
       "      <td>5766.77100</td>\n",
       "      <td>2060.5818</td>\n",
       "      <td>6459.19900</td>\n",
       "      <td>8982.62630</td>\n",
       "      <td>7958.36300</td>\n",
       "      <td>7545.06930</td>\n",
       "      <td>6615.05690</td>\n",
       "    </tr>\n",
       "    <tr>\n",
       "      <th>(Délégation Boujdour, مندوبية بوجدور)</th>\n",
       "      <td>2394.43850</td>\n",
       "      <td>670.56300</td>\n",
       "      <td>2305.90800</td>\n",
       "      <td>7553.73150</td>\n",
       "      <td>5263.6395</td>\n",
       "      <td>6473.49150</td>\n",
       "      <td>2700.8840</td>\n",
       "      <td>1518.72950</td>\n",
       "      <td>9044.84650</td>\n",
       "      <td>10730.79850</td>\n",
       "      <td>10503.77950</td>\n",
       "      <td>7784.28100</td>\n",
       "    </tr>\n",
       "    <tr>\n",
       "      <th>(Délégation Dakhla, مندوبية الداخلة)</th>\n",
       "      <td>28368.22450</td>\n",
       "      <td>31672.24100</td>\n",
       "      <td>39186.87250</td>\n",
       "      <td>46199.45050</td>\n",
       "      <td>41040.7200</td>\n",
       "      <td>46641.08550</td>\n",
       "      <td>28977.9656</td>\n",
       "      <td>39276.32750</td>\n",
       "      <td>62316.02020</td>\n",
       "      <td>75229.61425</td>\n",
       "      <td>67089.59550</td>\n",
       "      <td>66541.66100</td>\n",
       "    </tr>\n",
       "    <tr>\n",
       "      <th>(Délégation Laayoune, مندوبية العيون)</th>\n",
       "      <td>16665.59270</td>\n",
       "      <td>19408.09320</td>\n",
       "      <td>12569.10170</td>\n",
       "      <td>14015.20660</td>\n",
       "      <td>2624.3621</td>\n",
       "      <td>18790.80190</td>\n",
       "      <td>19037.5769</td>\n",
       "      <td>35151.79450</td>\n",
       "      <td>45421.10450</td>\n",
       "      <td>40819.38440</td>\n",
       "      <td>44384.96060</td>\n",
       "      <td>34768.64370</td>\n",
       "    </tr>\n",
       "    <tr>\n",
       "      <th>(Délégation Hoceima, مندوبية الحسيمة)</th>\n",
       "      <td>326.53350</td>\n",
       "      <td>193.19150</td>\n",
       "      <td>266.34000</td>\n",
       "      <td>242.92600</td>\n",
       "      <td>123.3475</td>\n",
       "      <td>198.22400</td>\n",
       "      <td>168.2950</td>\n",
       "      <td>342.45900</td>\n",
       "      <td>252.17500</td>\n",
       "      <td>510.95700</td>\n",
       "      <td>572.78810</td>\n",
       "      <td>1065.69170</td>\n",
       "    </tr>\n",
       "    <tr>\n",
       "      <th>(Délégation Jebha, مندوبية الجبهة)</th>\n",
       "      <td>182.96250</td>\n",
       "      <td>65.24750</td>\n",
       "      <td>67.44937</td>\n",
       "      <td>43.40550</td>\n",
       "      <td>71.1605</td>\n",
       "      <td>175.50359</td>\n",
       "      <td>111.0315</td>\n",
       "      <td>129.66188</td>\n",
       "      <td>120.40800</td>\n",
       "      <td>239.43400</td>\n",
       "      <td>211.99050</td>\n",
       "      <td>352.26550</td>\n",
       "    </tr>\n",
       "    <tr>\n",
       "      <th>(Délégation Larache, مندوبية العرائش)</th>\n",
       "      <td>979.59750</td>\n",
       "      <td>587.32400</td>\n",
       "      <td>1664.73440</td>\n",
       "      <td>1765.22570</td>\n",
       "      <td>1192.8379</td>\n",
       "      <td>1115.10120</td>\n",
       "      <td>754.1248</td>\n",
       "      <td>897.10690</td>\n",
       "      <td>1040.48600</td>\n",
       "      <td>320.62000</td>\n",
       "      <td>237.00850</td>\n",
       "      <td>463.48800</td>\n",
       "    </tr>\n",
       "    <tr>\n",
       "      <th>(Délégation M'diq, مندوبية المضيق)</th>\n",
       "      <td>431.54650</td>\n",
       "      <td>170.28650</td>\n",
       "      <td>219.41550</td>\n",
       "      <td>232.65000</td>\n",
       "      <td>225.2935</td>\n",
       "      <td>422.05600</td>\n",
       "      <td>300.3975</td>\n",
       "      <td>229.88800</td>\n",
       "      <td>350.46350</td>\n",
       "      <td>216.83550</td>\n",
       "      <td>250.86400</td>\n",
       "      <td>242.11800</td>\n",
       "    </tr>\n",
       "    <tr>\n",
       "      <th>(Délégation Nador, مندوبية الناضور)</th>\n",
       "      <td>676.24950</td>\n",
       "      <td>412.92950</td>\n",
       "      <td>430.07850</td>\n",
       "      <td>376.71150</td>\n",
       "      <td>363.1055</td>\n",
       "      <td>486.94000</td>\n",
       "      <td>431.3025</td>\n",
       "      <td>627.80500</td>\n",
       "      <td>442.89550</td>\n",
       "      <td>73.01250</td>\n",
       "      <td>62.72800</td>\n",
       "      <td>322.85650</td>\n",
       "    </tr>\n",
       "    <tr>\n",
       "      <th>(Délégation Tanger, مندوبية طنجة)</th>\n",
       "      <td>558.53700</td>\n",
       "      <td>1151.56450</td>\n",
       "      <td>1215.99450</td>\n",
       "      <td>742.76250</td>\n",
       "      <td>630.9315</td>\n",
       "      <td>946.94400</td>\n",
       "      <td>222.7980</td>\n",
       "      <td>406.03900</td>\n",
       "      <td>406.98300</td>\n",
       "      <td>74.85250</td>\n",
       "      <td>80.65150</td>\n",
       "      <td>171.45892</td>\n",
       "    </tr>\n",
       "  </tbody>\n",
       "</table>\n",
       "</div>"
      ],
      "text/plain": [
       "Délégation                                         Janv          Fév  \\\n",
       "                                                                       \n",
       "(Délégation Agadir, مندوبية اكادير)          2063.23180   2049.17110   \n",
       "(Délégation Sidi ifni, مندوبية سيدي إفني )   4567.38750   4498.64550   \n",
       "(Délégation Tantan, مندوبية طان طان)         2419.46750   2399.88700   \n",
       "(Délégation Casa, مندوبية الدار البيضاء)     1739.67488   1119.56725   \n",
       "(Délégation El Jadida, مندوبية الجديدة)      4099.44250   3232.06100   \n",
       "(Délégation Essaouira, مندوبية الصويرة)       408.09606    325.23267   \n",
       "(Délégation Mehdia, مندوبية مهدية)           1251.95000    395.09800   \n",
       "(Délégation Mohamedia, مندوبية المحمدية)      353.13150    141.16250   \n",
       "(Délégation Rabat, مندوبية الرباط)             39.34750     17.35850   \n",
       "(Délégation Safi, مندوبية اسفي)              4913.41200   4383.06946   \n",
       "(Délégation Boujdour, مندوبية بوجدور)        2394.43850    670.56300   \n",
       "(Délégation Dakhla, مندوبية الداخلة)        28368.22450  31672.24100   \n",
       "(Délégation Laayoune, مندوبية العيون)       16665.59270  19408.09320   \n",
       "(Délégation Hoceima, مندوبية الحسيمة)         326.53350    193.19150   \n",
       "(Délégation Jebha, مندوبية الجبهة)            182.96250     65.24750   \n",
       "(Délégation Larache, مندوبية العرائش)         979.59750    587.32400   \n",
       "(Délégation M'diq, مندوبية المضيق)            431.54650    170.28650   \n",
       "(Délégation Nador, مندوبية الناضور)           676.24950    412.92950   \n",
       "(Délégation Tanger, مندوبية طنجة)             558.53700   1151.56450   \n",
       "\n",
       "Délégation                                         Mars        Avril  \\\n",
       "                                                                       \n",
       "(Délégation Agadir, مندوبية اكادير)          3748.46830   3476.52310   \n",
       "(Délégation Sidi ifni, مندوبية سيدي إفني )  10998.90950   8573.68350   \n",
       "(Délégation Tantan, مندوبية طان طان)        19316.37200   5850.18350   \n",
       "(Délégation Casa, مندوبية الدار البيضاء)     1746.97104   1119.32676   \n",
       "(Délégation El Jadida, مندوبية الجديدة)      1194.17850    942.85900   \n",
       "(Délégation Essaouira, مندوبية الصويرة)      1200.24037    515.19456   \n",
       "(Délégation Mehdia, مندوبية مهدية)            721.79000    573.41900   \n",
       "(Délégation Mohamedia, مندوبية المحمدية)      132.35800     60.00350   \n",
       "(Délégation Rabat, مندوبية الرباط)             20.24200     21.41310   \n",
       "(Délégation Safi, مندوبية اسفي)              4169.58670   4597.91340   \n",
       "(Délégation Boujdour, مندوبية بوجدور)        2305.90800   7553.73150   \n",
       "(Délégation Dakhla, مندوبية الداخلة)        39186.87250  46199.45050   \n",
       "(Délégation Laayoune, مندوبية العيون)       12569.10170  14015.20660   \n",
       "(Délégation Hoceima, مندوبية الحسيمة)         266.34000    242.92600   \n",
       "(Délégation Jebha, مندوبية الجبهة)             67.44937     43.40550   \n",
       "(Délégation Larache, مندوبية العرائش)        1664.73440   1765.22570   \n",
       "(Délégation M'diq, مندوبية المضيق)            219.41550    232.65000   \n",
       "(Délégation Nador, مندوبية الناضور)           430.07850    376.71150   \n",
       "(Délégation Tanger, مندوبية طنجة)            1215.99450    742.76250   \n",
       "\n",
       "Délégation                                         Mai         Juin  \\\n",
       "                                                                      \n",
       "(Délégation Agadir, مندوبية اكادير)          2967.0594   3580.23800   \n",
       "(Délégation Sidi ifni, مندوبية سيدي إفني )   5961.0586   7408.44460   \n",
       "(Délégation Tantan, مندوبية طان طان)         1756.7060  16436.37400   \n",
       "(Délégation Casa, مندوبية الدار البيضاء)     1189.0874   3573.79968   \n",
       "(Délégation El Jadida, مندوبية الجديدة)      2347.4795   1818.53100   \n",
       "(Délégation Essaouira, مندوبية الصويرة)       793.1990   1441.77476   \n",
       "(Délégation Mehdia, مندوبية مهدية)           1645.3410   1242.58500   \n",
       "(Délégation Mohamedia, مندوبية المحمدية)       23.7425    470.62250   \n",
       "(Délégation Rabat, مندوبية الرباط)             58.7580    404.99500   \n",
       "(Délégation Safi, مندوبية اسفي)              2357.5979   5766.77100   \n",
       "(Délégation Boujdour, مندوبية بوجدور)        5263.6395   6473.49150   \n",
       "(Délégation Dakhla, مندوبية الداخلة)        41040.7200  46641.08550   \n",
       "(Délégation Laayoune, مندوبية العيون)        2624.3621  18790.80190   \n",
       "(Délégation Hoceima, مندوبية الحسيمة)         123.3475    198.22400   \n",
       "(Délégation Jebha, مندوبية الجبهة)             71.1605    175.50359   \n",
       "(Délégation Larache, مندوبية العرائش)        1192.8379   1115.10120   \n",
       "(Délégation M'diq, مندوبية المضيق)            225.2935    422.05600   \n",
       "(Délégation Nador, مندوبية الناضور)           363.1055    486.94000   \n",
       "(Délégation Tanger, مندوبية طنجة)             630.9315    946.94400   \n",
       "\n",
       "Délégation                                     Juillet         Août  \\\n",
       "                                                                      \n",
       "(Délégation Agadir, مندوبية اكادير)          1829.4766   5543.47010   \n",
       "(Délégation Sidi ifni, مندوبية سيدي إفني )    945.7732    990.00750   \n",
       "(Délégation Tantan, مندوبية طان طان)         5819.4285   7779.71700   \n",
       "(Délégation Casa, مندوبية الدار البيضاء)     2488.2361   3073.93890   \n",
       "(Délégation El Jadida, مندوبية الجديدة)      1589.7595   2993.29150   \n",
       "(Délégation Essaouira, مندوبية الصويرة)       511.5761    905.21848   \n",
       "(Délégation Mehdia, مندوبية مهدية)           1157.8040   1977.09100   \n",
       "(Délégation Mohamedia, مندوبية المحمدية)      264.0655    100.99750   \n",
       "(Délégation Rabat, مندوبية الرباط)             48.4365     43.56350   \n",
       "(Délégation Safi, مندوبية اسفي)              2060.5818   6459.19900   \n",
       "(Délégation Boujdour, مندوبية بوجدور)        2700.8840   1518.72950   \n",
       "(Délégation Dakhla, مندوبية الداخلة)        28977.9656  39276.32750   \n",
       "(Délégation Laayoune, مندوبية العيون)       19037.5769  35151.79450   \n",
       "(Délégation Hoceima, مندوبية الحسيمة)         168.2950    342.45900   \n",
       "(Délégation Jebha, مندوبية الجبهة)            111.0315    129.66188   \n",
       "(Délégation Larache, مندوبية العرائش)         754.1248    897.10690   \n",
       "(Délégation M'diq, مندوبية المضيق)            300.3975    229.88800   \n",
       "(Délégation Nador, مندوبية الناضور)           431.3025    627.80500   \n",
       "(Délégation Tanger, مندوبية طنجة)             222.7980    406.03900   \n",
       "\n",
       "Délégation                                         Sept          Oct  \\\n",
       "                                                                       \n",
       "(Délégation Agadir, مندوبية اكادير)          3145.75190   2331.20410   \n",
       "(Délégation Sidi ifni, مندوبية سيدي إفني )   1526.60240   1790.70850   \n",
       "(Délégation Tantan, مندوبية طان طان)        14135.71150   9484.18518   \n",
       "(Délégation Casa, مندوبية الدار البيضاء)     2113.05588    607.42830   \n",
       "(Délégation El Jadida, مندوبية الجديدة)      4984.24000   3938.52250   \n",
       "(Délégation Essaouira, مندوبية الصويرة)      1148.08638   1949.30210   \n",
       "(Délégation Mehdia, مندوبية مهدية)           1074.23900    440.05900   \n",
       "(Délégation Mohamedia, مندوبية المحمدية)      169.21050    384.33500   \n",
       "(Délégation Rabat, مندوبية الرباط)              0.77600      0.73300   \n",
       "(Délégation Safi, مندوبية اسفي)              8982.62630   7958.36300   \n",
       "(Délégation Boujdour, مندوبية بوجدور)        9044.84650  10730.79850   \n",
       "(Délégation Dakhla, مندوبية الداخلة)        62316.02020  75229.61425   \n",
       "(Délégation Laayoune, مندوبية العيون)       45421.10450  40819.38440   \n",
       "(Délégation Hoceima, مندوبية الحسيمة)         252.17500    510.95700   \n",
       "(Délégation Jebha, مندوبية الجبهة)            120.40800    239.43400   \n",
       "(Délégation Larache, مندوبية العرائش)        1040.48600    320.62000   \n",
       "(Délégation M'diq, مندوبية المضيق)            350.46350    216.83550   \n",
       "(Délégation Nador, مندوبية الناضور)           442.89550     73.01250   \n",
       "(Délégation Tanger, مندوبية طنجة)             406.98300     74.85250   \n",
       "\n",
       "Délégation                                          Nov          Dec  \n",
       "                                                                      \n",
       "(Délégation Agadir, مندوبية اكادير)          2572.97920   2793.83600  \n",
       "(Délégation Sidi ifni, مندوبية سيدي إفني )    889.30000    399.45900  \n",
       "(Délégation Tantan, مندوبية طان طان)        19384.45350  18355.65900  \n",
       "(Délégation Casa, مندوبية الدار البيضاء)     1545.74754   1631.22228  \n",
       "(Délégation El Jadida, مندوبية الجديدة)      2787.40300   2324.27950  \n",
       "(Délégation Essaouira, مندوبية الصويرة)      2647.13757   2478.22731  \n",
       "(Délégation Mehdia, مندوبية مهدية)            681.20500    986.16200  \n",
       "(Délégation Mohamedia, مندوبية المحمدية)      483.67750    396.89950  \n",
       "(Délégation Rabat, مندوبية الرباط)              0.75000     59.20950  \n",
       "(Délégation Safi, مندوبية اسفي)              7545.06930   6615.05690  \n",
       "(Délégation Boujdour, مندوبية بوجدور)       10503.77950   7784.28100  \n",
       "(Délégation Dakhla, مندوبية الداخلة)        67089.59550  66541.66100  \n",
       "(Délégation Laayoune, مندوبية العيون)       44384.96060  34768.64370  \n",
       "(Délégation Hoceima, مندوبية الحسيمة)         572.78810   1065.69170  \n",
       "(Délégation Jebha, مندوبية الجبهة)            211.99050    352.26550  \n",
       "(Délégation Larache, مندوبية العرائش)         237.00850    463.48800  \n",
       "(Délégation M'diq, مندوبية المضيق)            250.86400    242.11800  \n",
       "(Délégation Nador, مندوبية الناضور)            62.72800    322.85650  \n",
       "(Délégation Tanger, مندوبية طنجة)              80.65150    171.45892  "
      ]
     },
     "metadata": {},
     "output_type": "display_data"
    }
   ],
   "source": [
    "# Import necessary libraries\n",
    "import pandas as pd\n",
    "import numpy as np\n",
    "import matplotlib.pyplot as plt\n",
    "import seaborn as sns\n",
    "from sklearn.preprocessing import StandardScaler\n",
    "from sklearn.decomposition import PCA\n",
    "from sklearn.cluster import KMeans\n",
    "from sklearn.datasets import make_blobs\n",
    "from sklearn.metrics import silhouette_score\n",
    "from sklearn.cluster import KMeans\n",
    "from sklearn import preprocessing\n",
    "import xlrd\n",
    "from pca import pca\n",
    "import plotly.express as px\n",
    "from IPython.display import display\n",
    "\n",
    "# Load data from an Excel file\n",
    "file = pd.read_excel(\"dataset2.xlsx\", sheet_name=0, header=0)\n",
    "\n",
    "# Extract and preprocess the data\n",
    "df = file.iloc[2:22, [0] + list(range(4, 17))]\n",
    "df.columns = df.iloc[0]  # Set column names based on the first row of the data\n",
    "df = df.iloc[1:].reset_index(drop=True)  # Remove the first row and unwanted columns\n",
    "df.set_index(df.columns[0], inplace=True)  # Set row names based on the first column of the data\n",
    "df = df.apply(pd.to_numeric, errors='ignore')  # Convert data types to numeric\n",
    "\n",
    "# Define the desired order of columns in a list\n",
    "desired_column_order = ['Janv', 'Fév', 'Mars', 'Avril', 'Mai', 'Juin', 'Juillet', 'Août', 'Sept', 'Oct', 'Nov', 'Dec']\n",
    "\n",
    "# Reorder the columns of the DataFrame 'df' based on the desired order\n",
    "df = df[desired_column_order]\n",
    "\n",
    "df.columns.name = \"Délégation\"  # Set the name for the columns of the DataFrame\n",
    "df = df.rename_axis(\"\")  # Remove the row index name to make it empty\n",
    "\n",
    "# Display the resulting DataFrame\n",
    "display(df)\n"
   ]
  },
  {
   "cell_type": "code",
   "execution_count": 51,
   "id": "3815d545",
   "metadata": {},
   "outputs": [
    {
     "data": {
      "application/vnd.plotly.v1+json": {
       "config": {
        "plotlyServerURL": "https://plot.ly"
       },
       "data": [
        {
         "alignmentgroup": "True",
         "hovertemplate": "Principal Component=%{x}<br>Explained Variance (%)=%{text}<extra></extra>",
         "legendgroup": "",
         "marker": {
          "color": "#636efa",
          "pattern": {
           "shape": ""
          }
         },
         "name": "",
         "offsetgroup": "",
         "orientation": "v",
         "showlegend": false,
         "text": [
          0.9418415681501044,
          0.03747030804353077,
          0.014028704462400138,
          0.004519397039232035,
          0.0009734934951905328,
          0.0005208207446787093,
          0.0002992013650084854,
          0.000252415158471216,
          6.309437017952977e-05,
          1.6116519484361482e-05,
          1.3763801264483581e-05,
          1.116850455367417e-06
         ],
         "textposition": "outside",
         "texttemplate": "%{text:.2%}",
         "type": "bar",
         "x": [
          1,
          2,
          3,
          4,
          5,
          6,
          7,
          8,
          9,
          10,
          11,
          12
         ],
         "xaxis": "x",
         "y": [
          0.9418415681501044,
          0.03747030804353077,
          0.014028704462400138,
          0.004519397039232035,
          0.0009734934951905328,
          0.0005208207446787093,
          0.0002992013650084854,
          0.000252415158471216,
          6.309437017952977e-05,
          1.6116519484361482e-05,
          1.3763801264483581e-05,
          1.116850455367417e-06
         ],
         "yaxis": "y"
        }
       ],
       "layout": {
        "barmode": "relative",
        "legend": {
         "tracegroupgap": 0
        },
        "template": {
         "data": {
          "bar": [
           {
            "error_x": {
             "color": "#2a3f5f"
            },
            "error_y": {
             "color": "#2a3f5f"
            },
            "marker": {
             "line": {
              "color": "#E5ECF6",
              "width": 0.5
             },
             "pattern": {
              "fillmode": "overlay",
              "size": 10,
              "solidity": 0.2
             }
            },
            "type": "bar"
           }
          ],
          "barpolar": [
           {
            "marker": {
             "line": {
              "color": "#E5ECF6",
              "width": 0.5
             },
             "pattern": {
              "fillmode": "overlay",
              "size": 10,
              "solidity": 0.2
             }
            },
            "type": "barpolar"
           }
          ],
          "carpet": [
           {
            "aaxis": {
             "endlinecolor": "#2a3f5f",
             "gridcolor": "white",
             "linecolor": "white",
             "minorgridcolor": "white",
             "startlinecolor": "#2a3f5f"
            },
            "baxis": {
             "endlinecolor": "#2a3f5f",
             "gridcolor": "white",
             "linecolor": "white",
             "minorgridcolor": "white",
             "startlinecolor": "#2a3f5f"
            },
            "type": "carpet"
           }
          ],
          "choropleth": [
           {
            "colorbar": {
             "outlinewidth": 0,
             "ticks": ""
            },
            "type": "choropleth"
           }
          ],
          "contour": [
           {
            "colorbar": {
             "outlinewidth": 0,
             "ticks": ""
            },
            "colorscale": [
             [
              0,
              "#0d0887"
             ],
             [
              0.1111111111111111,
              "#46039f"
             ],
             [
              0.2222222222222222,
              "#7201a8"
             ],
             [
              0.3333333333333333,
              "#9c179e"
             ],
             [
              0.4444444444444444,
              "#bd3786"
             ],
             [
              0.5555555555555556,
              "#d8576b"
             ],
             [
              0.6666666666666666,
              "#ed7953"
             ],
             [
              0.7777777777777778,
              "#fb9f3a"
             ],
             [
              0.8888888888888888,
              "#fdca26"
             ],
             [
              1,
              "#f0f921"
             ]
            ],
            "type": "contour"
           }
          ],
          "contourcarpet": [
           {
            "colorbar": {
             "outlinewidth": 0,
             "ticks": ""
            },
            "type": "contourcarpet"
           }
          ],
          "heatmap": [
           {
            "colorbar": {
             "outlinewidth": 0,
             "ticks": ""
            },
            "colorscale": [
             [
              0,
              "#0d0887"
             ],
             [
              0.1111111111111111,
              "#46039f"
             ],
             [
              0.2222222222222222,
              "#7201a8"
             ],
             [
              0.3333333333333333,
              "#9c179e"
             ],
             [
              0.4444444444444444,
              "#bd3786"
             ],
             [
              0.5555555555555556,
              "#d8576b"
             ],
             [
              0.6666666666666666,
              "#ed7953"
             ],
             [
              0.7777777777777778,
              "#fb9f3a"
             ],
             [
              0.8888888888888888,
              "#fdca26"
             ],
             [
              1,
              "#f0f921"
             ]
            ],
            "type": "heatmap"
           }
          ],
          "heatmapgl": [
           {
            "colorbar": {
             "outlinewidth": 0,
             "ticks": ""
            },
            "colorscale": [
             [
              0,
              "#0d0887"
             ],
             [
              0.1111111111111111,
              "#46039f"
             ],
             [
              0.2222222222222222,
              "#7201a8"
             ],
             [
              0.3333333333333333,
              "#9c179e"
             ],
             [
              0.4444444444444444,
              "#bd3786"
             ],
             [
              0.5555555555555556,
              "#d8576b"
             ],
             [
              0.6666666666666666,
              "#ed7953"
             ],
             [
              0.7777777777777778,
              "#fb9f3a"
             ],
             [
              0.8888888888888888,
              "#fdca26"
             ],
             [
              1,
              "#f0f921"
             ]
            ],
            "type": "heatmapgl"
           }
          ],
          "histogram": [
           {
            "marker": {
             "pattern": {
              "fillmode": "overlay",
              "size": 10,
              "solidity": 0.2
             }
            },
            "type": "histogram"
           }
          ],
          "histogram2d": [
           {
            "colorbar": {
             "outlinewidth": 0,
             "ticks": ""
            },
            "colorscale": [
             [
              0,
              "#0d0887"
             ],
             [
              0.1111111111111111,
              "#46039f"
             ],
             [
              0.2222222222222222,
              "#7201a8"
             ],
             [
              0.3333333333333333,
              "#9c179e"
             ],
             [
              0.4444444444444444,
              "#bd3786"
             ],
             [
              0.5555555555555556,
              "#d8576b"
             ],
             [
              0.6666666666666666,
              "#ed7953"
             ],
             [
              0.7777777777777778,
              "#fb9f3a"
             ],
             [
              0.8888888888888888,
              "#fdca26"
             ],
             [
              1,
              "#f0f921"
             ]
            ],
            "type": "histogram2d"
           }
          ],
          "histogram2dcontour": [
           {
            "colorbar": {
             "outlinewidth": 0,
             "ticks": ""
            },
            "colorscale": [
             [
              0,
              "#0d0887"
             ],
             [
              0.1111111111111111,
              "#46039f"
             ],
             [
              0.2222222222222222,
              "#7201a8"
             ],
             [
              0.3333333333333333,
              "#9c179e"
             ],
             [
              0.4444444444444444,
              "#bd3786"
             ],
             [
              0.5555555555555556,
              "#d8576b"
             ],
             [
              0.6666666666666666,
              "#ed7953"
             ],
             [
              0.7777777777777778,
              "#fb9f3a"
             ],
             [
              0.8888888888888888,
              "#fdca26"
             ],
             [
              1,
              "#f0f921"
             ]
            ],
            "type": "histogram2dcontour"
           }
          ],
          "mesh3d": [
           {
            "colorbar": {
             "outlinewidth": 0,
             "ticks": ""
            },
            "type": "mesh3d"
           }
          ],
          "parcoords": [
           {
            "line": {
             "colorbar": {
              "outlinewidth": 0,
              "ticks": ""
             }
            },
            "type": "parcoords"
           }
          ],
          "pie": [
           {
            "automargin": true,
            "type": "pie"
           }
          ],
          "scatter": [
           {
            "fillpattern": {
             "fillmode": "overlay",
             "size": 10,
             "solidity": 0.2
            },
            "type": "scatter"
           }
          ],
          "scatter3d": [
           {
            "line": {
             "colorbar": {
              "outlinewidth": 0,
              "ticks": ""
             }
            },
            "marker": {
             "colorbar": {
              "outlinewidth": 0,
              "ticks": ""
             }
            },
            "type": "scatter3d"
           }
          ],
          "scattercarpet": [
           {
            "marker": {
             "colorbar": {
              "outlinewidth": 0,
              "ticks": ""
             }
            },
            "type": "scattercarpet"
           }
          ],
          "scattergeo": [
           {
            "marker": {
             "colorbar": {
              "outlinewidth": 0,
              "ticks": ""
             }
            },
            "type": "scattergeo"
           }
          ],
          "scattergl": [
           {
            "marker": {
             "colorbar": {
              "outlinewidth": 0,
              "ticks": ""
             }
            },
            "type": "scattergl"
           }
          ],
          "scattermapbox": [
           {
            "marker": {
             "colorbar": {
              "outlinewidth": 0,
              "ticks": ""
             }
            },
            "type": "scattermapbox"
           }
          ],
          "scatterpolar": [
           {
            "marker": {
             "colorbar": {
              "outlinewidth": 0,
              "ticks": ""
             }
            },
            "type": "scatterpolar"
           }
          ],
          "scatterpolargl": [
           {
            "marker": {
             "colorbar": {
              "outlinewidth": 0,
              "ticks": ""
             }
            },
            "type": "scatterpolargl"
           }
          ],
          "scatterternary": [
           {
            "marker": {
             "colorbar": {
              "outlinewidth": 0,
              "ticks": ""
             }
            },
            "type": "scatterternary"
           }
          ],
          "surface": [
           {
            "colorbar": {
             "outlinewidth": 0,
             "ticks": ""
            },
            "colorscale": [
             [
              0,
              "#0d0887"
             ],
             [
              0.1111111111111111,
              "#46039f"
             ],
             [
              0.2222222222222222,
              "#7201a8"
             ],
             [
              0.3333333333333333,
              "#9c179e"
             ],
             [
              0.4444444444444444,
              "#bd3786"
             ],
             [
              0.5555555555555556,
              "#d8576b"
             ],
             [
              0.6666666666666666,
              "#ed7953"
             ],
             [
              0.7777777777777778,
              "#fb9f3a"
             ],
             [
              0.8888888888888888,
              "#fdca26"
             ],
             [
              1,
              "#f0f921"
             ]
            ],
            "type": "surface"
           }
          ],
          "table": [
           {
            "cells": {
             "fill": {
              "color": "#EBF0F8"
             },
             "line": {
              "color": "white"
             }
            },
            "header": {
             "fill": {
              "color": "#C8D4E3"
             },
             "line": {
              "color": "white"
             }
            },
            "type": "table"
           }
          ]
         },
         "layout": {
          "annotationdefaults": {
           "arrowcolor": "#2a3f5f",
           "arrowhead": 0,
           "arrowwidth": 1
          },
          "autotypenumbers": "strict",
          "coloraxis": {
           "colorbar": {
            "outlinewidth": 0,
            "ticks": ""
           }
          },
          "colorscale": {
           "diverging": [
            [
             0,
             "#8e0152"
            ],
            [
             0.1,
             "#c51b7d"
            ],
            [
             0.2,
             "#de77ae"
            ],
            [
             0.3,
             "#f1b6da"
            ],
            [
             0.4,
             "#fde0ef"
            ],
            [
             0.5,
             "#f7f7f7"
            ],
            [
             0.6,
             "#e6f5d0"
            ],
            [
             0.7,
             "#b8e186"
            ],
            [
             0.8,
             "#7fbc41"
            ],
            [
             0.9,
             "#4d9221"
            ],
            [
             1,
             "#276419"
            ]
           ],
           "sequential": [
            [
             0,
             "#0d0887"
            ],
            [
             0.1111111111111111,
             "#46039f"
            ],
            [
             0.2222222222222222,
             "#7201a8"
            ],
            [
             0.3333333333333333,
             "#9c179e"
            ],
            [
             0.4444444444444444,
             "#bd3786"
            ],
            [
             0.5555555555555556,
             "#d8576b"
            ],
            [
             0.6666666666666666,
             "#ed7953"
            ],
            [
             0.7777777777777778,
             "#fb9f3a"
            ],
            [
             0.8888888888888888,
             "#fdca26"
            ],
            [
             1,
             "#f0f921"
            ]
           ],
           "sequentialminus": [
            [
             0,
             "#0d0887"
            ],
            [
             0.1111111111111111,
             "#46039f"
            ],
            [
             0.2222222222222222,
             "#7201a8"
            ],
            [
             0.3333333333333333,
             "#9c179e"
            ],
            [
             0.4444444444444444,
             "#bd3786"
            ],
            [
             0.5555555555555556,
             "#d8576b"
            ],
            [
             0.6666666666666666,
             "#ed7953"
            ],
            [
             0.7777777777777778,
             "#fb9f3a"
            ],
            [
             0.8888888888888888,
             "#fdca26"
            ],
            [
             1,
             "#f0f921"
            ]
           ]
          },
          "colorway": [
           "#636efa",
           "#EF553B",
           "#00cc96",
           "#ab63fa",
           "#FFA15A",
           "#19d3f3",
           "#FF6692",
           "#B6E880",
           "#FF97FF",
           "#FECB52"
          ],
          "font": {
           "color": "#2a3f5f"
          },
          "geo": {
           "bgcolor": "white",
           "lakecolor": "white",
           "landcolor": "#E5ECF6",
           "showlakes": true,
           "showland": true,
           "subunitcolor": "white"
          },
          "hoverlabel": {
           "align": "left"
          },
          "hovermode": "closest",
          "mapbox": {
           "style": "light"
          },
          "paper_bgcolor": "white",
          "plot_bgcolor": "#E5ECF6",
          "polar": {
           "angularaxis": {
            "gridcolor": "white",
            "linecolor": "white",
            "ticks": ""
           },
           "bgcolor": "#E5ECF6",
           "radialaxis": {
            "gridcolor": "white",
            "linecolor": "white",
            "ticks": ""
           }
          },
          "scene": {
           "xaxis": {
            "backgroundcolor": "#E5ECF6",
            "gridcolor": "white",
            "gridwidth": 2,
            "linecolor": "white",
            "showbackground": true,
            "ticks": "",
            "zerolinecolor": "white"
           },
           "yaxis": {
            "backgroundcolor": "#E5ECF6",
            "gridcolor": "white",
            "gridwidth": 2,
            "linecolor": "white",
            "showbackground": true,
            "ticks": "",
            "zerolinecolor": "white"
           },
           "zaxis": {
            "backgroundcolor": "#E5ECF6",
            "gridcolor": "white",
            "gridwidth": 2,
            "linecolor": "white",
            "showbackground": true,
            "ticks": "",
            "zerolinecolor": "white"
           }
          },
          "shapedefaults": {
           "line": {
            "color": "#2a3f5f"
           }
          },
          "ternary": {
           "aaxis": {
            "gridcolor": "white",
            "linecolor": "white",
            "ticks": ""
           },
           "baxis": {
            "gridcolor": "white",
            "linecolor": "white",
            "ticks": ""
           },
           "bgcolor": "#E5ECF6",
           "caxis": {
            "gridcolor": "white",
            "linecolor": "white",
            "ticks": ""
           }
          },
          "title": {
           "x": 0.05
          },
          "xaxis": {
           "automargin": true,
           "gridcolor": "white",
           "linecolor": "white",
           "ticks": "",
           "title": {
            "standoff": 15
           },
           "zerolinecolor": "white",
           "zerolinewidth": 2
          },
          "yaxis": {
           "automargin": true,
           "gridcolor": "white",
           "linecolor": "white",
           "ticks": "",
           "title": {
            "standoff": 15
           },
           "zerolinecolor": "white",
           "zerolinewidth": 2
          }
         }
        },
        "title": {
         "text": "Scree Plot PCA"
        },
        "xaxis": {
         "anchor": "y",
         "domain": [
          0,
          1
         ],
         "title": {
          "text": "Principal Component"
         }
        },
        "yaxis": {
         "anchor": "x",
         "domain": [
          0,
          1
         ],
         "title": {
          "text": "Explained Variance (%)"
         }
        }
       }
      },
      "text/html": [
       "<div>                            <div id=\"24394945-ce9c-4155-9e6c-c75ecac1456c\" class=\"plotly-graph-div\" style=\"height:525px; width:100%;\"></div>            <script type=\"text/javascript\">                require([\"plotly\"], function(Plotly) {                    window.PLOTLYENV=window.PLOTLYENV || {};                                    if (document.getElementById(\"24394945-ce9c-4155-9e6c-c75ecac1456c\")) {                    Plotly.newPlot(                        \"24394945-ce9c-4155-9e6c-c75ecac1456c\",                        [{\"alignmentgroup\":\"True\",\"hovertemplate\":\"Principal Component=%{x}\\u003cbr\\u003eExplained Variance (%)=%{text}\\u003cextra\\u003e\\u003c\\u002fextra\\u003e\",\"legendgroup\":\"\",\"marker\":{\"color\":\"#636efa\",\"pattern\":{\"shape\":\"\"}},\"name\":\"\",\"offsetgroup\":\"\",\"orientation\":\"v\",\"showlegend\":false,\"text\":[0.9418415681501044,0.03747030804353077,0.014028704462400138,0.004519397039232035,0.0009734934951905328,0.0005208207446787093,0.0002992013650084854,0.000252415158471216,6.309437017952977e-05,1.6116519484361482e-05,1.3763801264483581e-05,1.116850455367417e-06],\"textposition\":\"outside\",\"x\":[1,2,3,4,5,6,7,8,9,10,11,12],\"xaxis\":\"x\",\"y\":[0.9418415681501044,0.03747030804353077,0.014028704462400138,0.004519397039232035,0.0009734934951905328,0.0005208207446787093,0.0002992013650084854,0.000252415158471216,6.309437017952977e-05,1.6116519484361482e-05,1.3763801264483581e-05,1.116850455367417e-06],\"yaxis\":\"y\",\"type\":\"bar\",\"texttemplate\":\"%{text:.2%}\"}],                        {\"template\":{\"data\":{\"histogram2dcontour\":[{\"type\":\"histogram2dcontour\",\"colorbar\":{\"outlinewidth\":0,\"ticks\":\"\"},\"colorscale\":[[0.0,\"#0d0887\"],[0.1111111111111111,\"#46039f\"],[0.2222222222222222,\"#7201a8\"],[0.3333333333333333,\"#9c179e\"],[0.4444444444444444,\"#bd3786\"],[0.5555555555555556,\"#d8576b\"],[0.6666666666666666,\"#ed7953\"],[0.7777777777777778,\"#fb9f3a\"],[0.8888888888888888,\"#fdca26\"],[1.0,\"#f0f921\"]]}],\"choropleth\":[{\"type\":\"choropleth\",\"colorbar\":{\"outlinewidth\":0,\"ticks\":\"\"}}],\"histogram2d\":[{\"type\":\"histogram2d\",\"colorbar\":{\"outlinewidth\":0,\"ticks\":\"\"},\"colorscale\":[[0.0,\"#0d0887\"],[0.1111111111111111,\"#46039f\"],[0.2222222222222222,\"#7201a8\"],[0.3333333333333333,\"#9c179e\"],[0.4444444444444444,\"#bd3786\"],[0.5555555555555556,\"#d8576b\"],[0.6666666666666666,\"#ed7953\"],[0.7777777777777778,\"#fb9f3a\"],[0.8888888888888888,\"#fdca26\"],[1.0,\"#f0f921\"]]}],\"heatmap\":[{\"type\":\"heatmap\",\"colorbar\":{\"outlinewidth\":0,\"ticks\":\"\"},\"colorscale\":[[0.0,\"#0d0887\"],[0.1111111111111111,\"#46039f\"],[0.2222222222222222,\"#7201a8\"],[0.3333333333333333,\"#9c179e\"],[0.4444444444444444,\"#bd3786\"],[0.5555555555555556,\"#d8576b\"],[0.6666666666666666,\"#ed7953\"],[0.7777777777777778,\"#fb9f3a\"],[0.8888888888888888,\"#fdca26\"],[1.0,\"#f0f921\"]]}],\"heatmapgl\":[{\"type\":\"heatmapgl\",\"colorbar\":{\"outlinewidth\":0,\"ticks\":\"\"},\"colorscale\":[[0.0,\"#0d0887\"],[0.1111111111111111,\"#46039f\"],[0.2222222222222222,\"#7201a8\"],[0.3333333333333333,\"#9c179e\"],[0.4444444444444444,\"#bd3786\"],[0.5555555555555556,\"#d8576b\"],[0.6666666666666666,\"#ed7953\"],[0.7777777777777778,\"#fb9f3a\"],[0.8888888888888888,\"#fdca26\"],[1.0,\"#f0f921\"]]}],\"contourcarpet\":[{\"type\":\"contourcarpet\",\"colorbar\":{\"outlinewidth\":0,\"ticks\":\"\"}}],\"contour\":[{\"type\":\"contour\",\"colorbar\":{\"outlinewidth\":0,\"ticks\":\"\"},\"colorscale\":[[0.0,\"#0d0887\"],[0.1111111111111111,\"#46039f\"],[0.2222222222222222,\"#7201a8\"],[0.3333333333333333,\"#9c179e\"],[0.4444444444444444,\"#bd3786\"],[0.5555555555555556,\"#d8576b\"],[0.6666666666666666,\"#ed7953\"],[0.7777777777777778,\"#fb9f3a\"],[0.8888888888888888,\"#fdca26\"],[1.0,\"#f0f921\"]]}],\"surface\":[{\"type\":\"surface\",\"colorbar\":{\"outlinewidth\":0,\"ticks\":\"\"},\"colorscale\":[[0.0,\"#0d0887\"],[0.1111111111111111,\"#46039f\"],[0.2222222222222222,\"#7201a8\"],[0.3333333333333333,\"#9c179e\"],[0.4444444444444444,\"#bd3786\"],[0.5555555555555556,\"#d8576b\"],[0.6666666666666666,\"#ed7953\"],[0.7777777777777778,\"#fb9f3a\"],[0.8888888888888888,\"#fdca26\"],[1.0,\"#f0f921\"]]}],\"mesh3d\":[{\"type\":\"mesh3d\",\"colorbar\":{\"outlinewidth\":0,\"ticks\":\"\"}}],\"scatter\":[{\"fillpattern\":{\"fillmode\":\"overlay\",\"size\":10,\"solidity\":0.2},\"type\":\"scatter\"}],\"parcoords\":[{\"type\":\"parcoords\",\"line\":{\"colorbar\":{\"outlinewidth\":0,\"ticks\":\"\"}}}],\"scatterpolargl\":[{\"type\":\"scatterpolargl\",\"marker\":{\"colorbar\":{\"outlinewidth\":0,\"ticks\":\"\"}}}],\"bar\":[{\"error_x\":{\"color\":\"#2a3f5f\"},\"error_y\":{\"color\":\"#2a3f5f\"},\"marker\":{\"line\":{\"color\":\"#E5ECF6\",\"width\":0.5},\"pattern\":{\"fillmode\":\"overlay\",\"size\":10,\"solidity\":0.2}},\"type\":\"bar\"}],\"scattergeo\":[{\"type\":\"scattergeo\",\"marker\":{\"colorbar\":{\"outlinewidth\":0,\"ticks\":\"\"}}}],\"scatterpolar\":[{\"type\":\"scatterpolar\",\"marker\":{\"colorbar\":{\"outlinewidth\":0,\"ticks\":\"\"}}}],\"histogram\":[{\"marker\":{\"pattern\":{\"fillmode\":\"overlay\",\"size\":10,\"solidity\":0.2}},\"type\":\"histogram\"}],\"scattergl\":[{\"type\":\"scattergl\",\"marker\":{\"colorbar\":{\"outlinewidth\":0,\"ticks\":\"\"}}}],\"scatter3d\":[{\"type\":\"scatter3d\",\"line\":{\"colorbar\":{\"outlinewidth\":0,\"ticks\":\"\"}},\"marker\":{\"colorbar\":{\"outlinewidth\":0,\"ticks\":\"\"}}}],\"scattermapbox\":[{\"type\":\"scattermapbox\",\"marker\":{\"colorbar\":{\"outlinewidth\":0,\"ticks\":\"\"}}}],\"scatterternary\":[{\"type\":\"scatterternary\",\"marker\":{\"colorbar\":{\"outlinewidth\":0,\"ticks\":\"\"}}}],\"scattercarpet\":[{\"type\":\"scattercarpet\",\"marker\":{\"colorbar\":{\"outlinewidth\":0,\"ticks\":\"\"}}}],\"carpet\":[{\"aaxis\":{\"endlinecolor\":\"#2a3f5f\",\"gridcolor\":\"white\",\"linecolor\":\"white\",\"minorgridcolor\":\"white\",\"startlinecolor\":\"#2a3f5f\"},\"baxis\":{\"endlinecolor\":\"#2a3f5f\",\"gridcolor\":\"white\",\"linecolor\":\"white\",\"minorgridcolor\":\"white\",\"startlinecolor\":\"#2a3f5f\"},\"type\":\"carpet\"}],\"table\":[{\"cells\":{\"fill\":{\"color\":\"#EBF0F8\"},\"line\":{\"color\":\"white\"}},\"header\":{\"fill\":{\"color\":\"#C8D4E3\"},\"line\":{\"color\":\"white\"}},\"type\":\"table\"}],\"barpolar\":[{\"marker\":{\"line\":{\"color\":\"#E5ECF6\",\"width\":0.5},\"pattern\":{\"fillmode\":\"overlay\",\"size\":10,\"solidity\":0.2}},\"type\":\"barpolar\"}],\"pie\":[{\"automargin\":true,\"type\":\"pie\"}]},\"layout\":{\"autotypenumbers\":\"strict\",\"colorway\":[\"#636efa\",\"#EF553B\",\"#00cc96\",\"#ab63fa\",\"#FFA15A\",\"#19d3f3\",\"#FF6692\",\"#B6E880\",\"#FF97FF\",\"#FECB52\"],\"font\":{\"color\":\"#2a3f5f\"},\"hovermode\":\"closest\",\"hoverlabel\":{\"align\":\"left\"},\"paper_bgcolor\":\"white\",\"plot_bgcolor\":\"#E5ECF6\",\"polar\":{\"bgcolor\":\"#E5ECF6\",\"angularaxis\":{\"gridcolor\":\"white\",\"linecolor\":\"white\",\"ticks\":\"\"},\"radialaxis\":{\"gridcolor\":\"white\",\"linecolor\":\"white\",\"ticks\":\"\"}},\"ternary\":{\"bgcolor\":\"#E5ECF6\",\"aaxis\":{\"gridcolor\":\"white\",\"linecolor\":\"white\",\"ticks\":\"\"},\"baxis\":{\"gridcolor\":\"white\",\"linecolor\":\"white\",\"ticks\":\"\"},\"caxis\":{\"gridcolor\":\"white\",\"linecolor\":\"white\",\"ticks\":\"\"}},\"coloraxis\":{\"colorbar\":{\"outlinewidth\":0,\"ticks\":\"\"}},\"colorscale\":{\"sequential\":[[0.0,\"#0d0887\"],[0.1111111111111111,\"#46039f\"],[0.2222222222222222,\"#7201a8\"],[0.3333333333333333,\"#9c179e\"],[0.4444444444444444,\"#bd3786\"],[0.5555555555555556,\"#d8576b\"],[0.6666666666666666,\"#ed7953\"],[0.7777777777777778,\"#fb9f3a\"],[0.8888888888888888,\"#fdca26\"],[1.0,\"#f0f921\"]],\"sequentialminus\":[[0.0,\"#0d0887\"],[0.1111111111111111,\"#46039f\"],[0.2222222222222222,\"#7201a8\"],[0.3333333333333333,\"#9c179e\"],[0.4444444444444444,\"#bd3786\"],[0.5555555555555556,\"#d8576b\"],[0.6666666666666666,\"#ed7953\"],[0.7777777777777778,\"#fb9f3a\"],[0.8888888888888888,\"#fdca26\"],[1.0,\"#f0f921\"]],\"diverging\":[[0,\"#8e0152\"],[0.1,\"#c51b7d\"],[0.2,\"#de77ae\"],[0.3,\"#f1b6da\"],[0.4,\"#fde0ef\"],[0.5,\"#f7f7f7\"],[0.6,\"#e6f5d0\"],[0.7,\"#b8e186\"],[0.8,\"#7fbc41\"],[0.9,\"#4d9221\"],[1,\"#276419\"]]},\"xaxis\":{\"gridcolor\":\"white\",\"linecolor\":\"white\",\"ticks\":\"\",\"title\":{\"standoff\":15},\"zerolinecolor\":\"white\",\"automargin\":true,\"zerolinewidth\":2},\"yaxis\":{\"gridcolor\":\"white\",\"linecolor\":\"white\",\"ticks\":\"\",\"title\":{\"standoff\":15},\"zerolinecolor\":\"white\",\"automargin\":true,\"zerolinewidth\":2},\"scene\":{\"xaxis\":{\"backgroundcolor\":\"#E5ECF6\",\"gridcolor\":\"white\",\"linecolor\":\"white\",\"showbackground\":true,\"ticks\":\"\",\"zerolinecolor\":\"white\",\"gridwidth\":2},\"yaxis\":{\"backgroundcolor\":\"#E5ECF6\",\"gridcolor\":\"white\",\"linecolor\":\"white\",\"showbackground\":true,\"ticks\":\"\",\"zerolinecolor\":\"white\",\"gridwidth\":2},\"zaxis\":{\"backgroundcolor\":\"#E5ECF6\",\"gridcolor\":\"white\",\"linecolor\":\"white\",\"showbackground\":true,\"ticks\":\"\",\"zerolinecolor\":\"white\",\"gridwidth\":2}},\"shapedefaults\":{\"line\":{\"color\":\"#2a3f5f\"}},\"annotationdefaults\":{\"arrowcolor\":\"#2a3f5f\",\"arrowhead\":0,\"arrowwidth\":1},\"geo\":{\"bgcolor\":\"white\",\"landcolor\":\"#E5ECF6\",\"subunitcolor\":\"white\",\"showland\":true,\"showlakes\":true,\"lakecolor\":\"white\"},\"title\":{\"x\":0.05},\"mapbox\":{\"style\":\"light\"}}},\"xaxis\":{\"anchor\":\"y\",\"domain\":[0.0,1.0],\"title\":{\"text\":\"Principal Component\"}},\"yaxis\":{\"anchor\":\"x\",\"domain\":[0.0,1.0],\"title\":{\"text\":\"Explained Variance (%)\"}},\"legend\":{\"tracegroupgap\":0},\"title\":{\"text\":\"Scree Plot PCA\"},\"barmode\":\"relative\"},                        {\"responsive\": true}                    ).then(function(){\n",
       "                            \n",
       "var gd = document.getElementById('24394945-ce9c-4155-9e6c-c75ecac1456c');\n",
       "var x = new MutationObserver(function (mutations, observer) {{\n",
       "        var display = window.getComputedStyle(gd).display;\n",
       "        if (!display || display === 'none') {{\n",
       "            console.log([gd, 'removed!']);\n",
       "            Plotly.purge(gd);\n",
       "            observer.disconnect();\n",
       "        }}\n",
       "}});\n",
       "\n",
       "// Listen for the removal of the full notebook cells\n",
       "var notebookContainer = gd.closest('#notebook-container');\n",
       "if (notebookContainer) {{\n",
       "    x.observe(notebookContainer, {childList: true});\n",
       "}}\n",
       "\n",
       "// Listen for the clearing of the current output cell\n",
       "var outputEl = gd.closest('.output');\n",
       "if (outputEl) {{\n",
       "    x.observe(outputEl, {childList: true});\n",
       "}}\n",
       "\n",
       "                        })                };                });            </script>        </div>"
      ]
     },
     "metadata": {},
     "output_type": "display_data"
    }
   ],
   "source": [
    "# Standardize the data\n",
    "scaler = StandardScaler()\n",
    "df_scaled = scaler.fit_transform(df)\n",
    "\n",
    "# Calculate eigenvalues and eigenvectors\n",
    "cov_matrix = np.cov(df_scaled.T)\n",
    "eigenvalues, eigenvectors = np.linalg.eig(cov_matrix)\n",
    "\n",
    "# Calculate explained variance ratio\n",
    "explained_variance_ratio = eigenvalues / np.sum(eigenvalues)\n",
    "\n",
    "# Perform PCA using scikit-learn\n",
    "pca = PCA()\n",
    "principal_components = pca.fit_transform(df_scaled)\n",
    "\n",
    "# Get the explained variance ratio\n",
    "explained_variance_ratio = pca.explained_variance_ratio_\n",
    "\n",
    "# Create a DataFrame for the Scree plot\n",
    "scree_data = pd.DataFrame({\n",
    "    'Principal Component': np.arange(1, len(explained_variance_ratio) + 1),\n",
    "    'Explained Variance': explained_variance_ratio\n",
    "})\n",
    "\n",
    "# Create the Scree plot using Plotly\n",
    "fig = px.bar(scree_data, x='Principal Component', y='Explained Variance',\n",
    "             title='Scree Plot PCA', text='Explained Variance',\n",
    "             labels={'Explained Variance': 'Explained Variance (%)'})\n",
    "\n",
    "# Format the percentage labels\n",
    "fig.update_traces(texttemplate='%{text:.2%}', textposition='outside')\n",
    "\n",
    "# Show the plot\n",
    "fig.show()\n"
   ]
  },
  {
   "cell_type": "code",
   "execution_count": 52,
   "id": "83323667",
   "metadata": {},
   "outputs": [
    {
     "name": "stdout",
     "output_type": "stream",
     "text": [
      "        eigenvalue  variance.percent  cumulative.variance.percent\n",
      "Dim.1    11.929993         94.184157                    94.184157\n",
      "Dim.2     0.474624          3.747031                    97.931188\n",
      "Dim.3     0.177697          1.402870                    99.334058\n",
      "Dim.4     0.057246          0.451940                    99.785998\n",
      "Dim.5     0.012331          0.097349                    99.883347\n",
      "Dim.6     0.006597          0.052082                    99.935429\n",
      "Dim.7     0.003790          0.029920                    99.965349\n",
      "Dim.8     0.003197          0.025242                    99.990591\n",
      "Dim.9     0.000799          0.006309                    99.996900\n",
      "Dim.10    0.000014          0.001612                    99.998512\n",
      "Dim.11    0.000204          0.001376                    99.999888\n",
      "Dim.12    0.000174          0.000112                   100.000000\n"
     ]
    }
   ],
   "source": [
    "\n",
    "# Créez un DataFrame pour afficher le rapport de variance expliquée\n",
    "explained_variance_df = pd.DataFrame({'eigenvalue': eigenvalues,\n",
    "                                      'variance.percent': explained_variance_ratio * 100,\n",
    "                                      'cumulative.variance.percent': explained_variance_ratio.cumsum() * 100})\n",
    "\n",
    "# Renommez les index pour correspondre à la sortie souhaitée\n",
    "explained_variance_df.index = ['Dim.' + str(i) for i in range(1, len(explained_variance_ratio) + 1)]\n",
    "\n",
    "# Afficher le DataFrame\n",
    "print(explained_variance_df)"
   ]
  }
 ],
 "metadata": {
  "kernelspec": {
   "display_name": "Python 3 (ipykernel)",
   "language": "python",
   "name": "python3"
  },
  "language_info": {
   "codemirror_mode": {
    "name": "ipython",
    "version": 3
   },
   "file_extension": ".py",
   "mimetype": "text/x-python",
   "name": "python",
   "nbconvert_exporter": "python",
   "pygments_lexer": "ipython3",
   "version": "3.11.6"
  }
 },
 "nbformat": 4,
 "nbformat_minor": 5
}
